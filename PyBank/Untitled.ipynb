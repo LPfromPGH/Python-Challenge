{
 "cells": [
  {
   "cell_type": "code",
   "execution_count": 7,
   "id": "20a120f8",
   "metadata": {},
   "outputs": [
    {
     "ename": "TypeError",
     "evalue": "unsupported operand type(s) for +: 'int' and 'str'",
     "output_type": "error",
     "traceback": [
      "\u001b[1;31m---------------------------------------------------------------------------\u001b[0m",
      "\u001b[1;31mTypeError\u001b[0m                                 Traceback (most recent call last)",
      "Cell \u001b[1;32mIn[7], line 23\u001b[0m\n\u001b[0;32m     20\u001b[0m     time\u001b[38;5;241m.\u001b[39mappend((row[\u001b[38;5;241m0\u001b[39m]))\n\u001b[0;32m     21\u001b[0m     prof_loss\u001b[38;5;241m.\u001b[39mappend((row[\u001b[38;5;241m1\u001b[39m]))\n\u001b[1;32m---> 23\u001b[0m total \u001b[38;5;241m=\u001b[39m \u001b[38;5;28;43msum\u001b[39;49m\u001b[43m(\u001b[49m\u001b[43mprof_loss\u001b[49m\u001b[43m)\u001b[49m\n",
      "\u001b[1;31mTypeError\u001b[0m: unsupported operand type(s) for +: 'int' and 'str'"
     ]
    }
   ],
   "source": [
    "import os\n",
    "import csv\n",
    "\n",
    "# Gotta collect the Data\n",
    "bank_csv = os.path.join('..', 'Resources', 'budget_data.csv')\n",
    "\n",
    "time = []\n",
    "prof_loss = []\n",
    "\n",
    "total = 0\n",
    "#prof_loss = 0\n",
    "\n",
    "# Reading the CSV\n",
    "with open(bank_csv, encoding=\"utf_8\") as csvfile:\n",
    "    csv_reader = csv.reader(csvfile, delimiter=\",\")\n",
    "\n",
    "    csv_header = next(csv_reader)\n",
    "    \n",
    "    for row in csvfile:\n",
    "        time.append((row[0]))\n",
    "        prof_loss.append((row[1]))\n",
    "        \n",
    "    total = sum(prof_loss)\n"
   ]
  },
  {
   "cell_type": "code",
   "execution_count": 3,
   "id": "1a80f0c6",
   "metadata": {},
   "outputs": [
    {
     "ename": "ValueError",
     "evalue": "I/O operation on closed file.",
     "output_type": "error",
     "traceback": [
      "\u001b[1;31m---------------------------------------------------------------------------\u001b[0m",
      "\u001b[1;31mValueError\u001b[0m                                Traceback (most recent call last)",
      "Cell \u001b[1;32mIn[3], line 1\u001b[0m\n\u001b[1;32m----> 1\u001b[0m \u001b[38;5;28;01mfor\u001b[39;00m row \u001b[38;5;129;01min\u001b[39;00m csvfile:\n\u001b[0;32m      2\u001b[0m        time\u001b[38;5;241m.\u001b[39mappend((row[\u001b[38;5;241m0\u001b[39m]))\n\u001b[0;32m      3\u001b[0m        prof_loss\u001b[38;5;241m.\u001b[39mappend([\u001b[38;5;28mint\u001b[39m(row[\u001b[38;5;241m1\u001b[39m])])\n",
      "\u001b[1;31mValueError\u001b[0m: I/O operation on closed file."
     ]
    }
   ],
   "source": [
    " "
   ]
  },
  {
   "cell_type": "code",
   "execution_count": null,
   "id": "24d65b7b",
   "metadata": {},
   "outputs": [],
   "source": []
  }
 ],
 "metadata": {
  "kernelspec": {
   "display_name": "Python 3 (ipykernel)",
   "language": "python",
   "name": "python3"
  },
  "language_info": {
   "codemirror_mode": {
    "name": "ipython",
    "version": 3
   },
   "file_extension": ".py",
   "mimetype": "text/x-python",
   "name": "python",
   "nbconvert_exporter": "python",
   "pygments_lexer": "ipython3",
   "version": "3.10.9"
  }
 },
 "nbformat": 4,
 "nbformat_minor": 5
}
